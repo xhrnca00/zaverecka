{
 "cells": [
  {
   "cell_type": "markdown",
   "metadata": {},
   "source": [
    "# First AI net\n",
    "\n",
    "Fahrenheit to Celsius"
   ]
  },
  {
   "cell_type": "markdown",
   "metadata": {},
   "source": [
    "## Imports"
   ]
  },
  {
   "cell_type": "code",
   "execution_count": 71,
   "metadata": {},
   "outputs": [],
   "source": [
    "import matplotlib.pyplot as plt\n",
    "import numpy as np\n",
    "import tensorflow as tf  # type: ignore\n"
   ]
  },
  {
   "cell_type": "code",
   "execution_count": 72,
   "metadata": {},
   "outputs": [],
   "source": [
    "from typing import List, Tuple\n",
    "import numpy.typing as ntp"
   ]
  },
  {
   "cell_type": "markdown",
   "metadata": {},
   "source": [
    "### Network"
   ]
  },
  {
   "cell_type": "code",
   "execution_count": 73,
   "metadata": {},
   "outputs": [],
   "source": [
    "net = tf.keras.Sequential([\n",
    "    tf.keras.layers.Input(shape=(1,)),\n",
    "    tf.keras.layers.Dense(units=1)\n",
    "])\n"
   ]
  },
  {
   "cell_type": "markdown",
   "metadata": {},
   "source": [
    "### Creating dataset"
   ]
  },
  {
   "cell_type": "code",
   "execution_count": 74,
   "metadata": {},
   "outputs": [],
   "source": [
    "def get_fahrenheit(fahrenheit: float) -> float:\n",
    "    return fahrenheit * 1.8 + 32"
   ]
  },
  {
   "cell_type": "code",
   "execution_count": 75,
   "metadata": {},
   "outputs": [],
   "source": [
    "def create_dataset(\n",
    "    start: int, end: int, steps: int\n",
    ") -> Tuple[ntp.NDArray[np.float_], ntp.NDArray[np.float_]]:\n",
    "    celsius: List[float] = []\n",
    "    fahrenheit: List[float] = []\n",
    "    for i in range(start, end, (end - start) // steps):\n",
    "        celsius.append(i)\n",
    "        fahrenheit.append(get_fahrenheit(i))\n",
    "\n",
    "    return (np.array(celsius, dtype=float), np.array(fahrenheit, dtype=float))\n"
   ]
  },
  {
   "cell_type": "code",
   "execution_count": 76,
   "metadata": {},
   "outputs": [],
   "source": [
    "celsius, fahrenheit = create_dataset(-1000, 1000, 389)"
   ]
  },
  {
   "cell_type": "code",
   "execution_count": 77,
   "metadata": {},
   "outputs": [
    {
     "name": "stdout",
     "output_type": "stream",
     "text": [
      "<class 'numpy.ndarray'>\n",
      "(400,)\n",
      "float64\n"
     ]
    }
   ],
   "source": [
    "print(\n",
    "    type(celsius),\n",
    "    celsius.shape,\n",
    "    celsius.dtype,\n",
    "    sep=\"\\n\"\n",
    ")"
   ]
  },
  {
   "cell_type": "code",
   "execution_count": 78,
   "metadata": {},
   "outputs": [
    {
     "name": "stdout",
     "output_type": "stream",
     "text": [
      "[-1000.  -995.  -990.  -985.  -980.  -975.  -970.  -965.  -960.  -955.\n",
      "  -950.  -945.  -940.  -935.  -930.  -925.  -920.  -915.  -910.  -905.\n",
      "  -900.  -895.  -890.  -885.  -880.  -875.  -870.  -865.  -860.  -855.\n",
      "  -850.  -845.  -840.  -835.  -830.  -825.  -820.  -815.  -810.  -805.\n",
      "  -800.  -795.  -790.  -785.  -780.  -775.  -770.  -765.  -760.  -755.\n",
      "  -750.  -745.  -740.  -735.  -730.  -725.  -720.  -715.  -710.  -705.\n",
      "  -700.  -695.  -690.  -685.  -680.  -675.  -670.  -665.  -660.  -655.\n",
      "  -650.  -645.  -640.  -635.  -630.  -625.  -620.  -615.  -610.  -605.\n",
      "  -600.  -595.  -590.  -585.  -580.  -575.  -570.  -565.  -560.  -555.\n",
      "  -550.  -545.  -540.  -535.  -530.  -525.  -520.  -515.  -510.  -505.\n",
      "  -500.  -495.  -490.  -485.  -480.  -475.  -470.  -465.  -460.  -455.\n",
      "  -450.  -445.  -440.  -435.  -430.  -425.  -420.  -415.  -410.  -405.\n",
      "  -400.  -395.  -390.  -385.  -380.  -375.  -370.  -365.  -360.  -355.\n",
      "  -350.  -345.  -340.  -335.  -330.  -325.  -320.  -315.  -310.  -305.\n",
      "  -300.  -295.  -290.  -285.  -280.  -275.  -270.  -265.  -260.  -255.\n",
      "  -250.  -245.  -240.  -235.  -230.  -225.  -220.  -215.  -210.  -205.\n",
      "  -200.  -195.  -190.  -185.  -180.  -175.  -170.  -165.  -160.  -155.\n",
      "  -150.  -145.  -140.  -135.  -130.  -125.  -120.  -115.  -110.  -105.\n",
      "  -100.   -95.   -90.   -85.   -80.   -75.   -70.   -65.   -60.   -55.\n",
      "   -50.   -45.   -40.   -35.   -30.   -25.   -20.   -15.   -10.    -5.\n",
      "     0.     5.    10.    15.    20.    25.    30.    35.    40.    45.\n",
      "    50.    55.    60.    65.    70.    75.    80.    85.    90.    95.\n",
      "   100.   105.   110.   115.   120.   125.   130.   135.   140.   145.\n",
      "   150.   155.   160.   165.   170.   175.   180.   185.   190.   195.\n",
      "   200.   205.   210.   215.   220.   225.   230.   235.   240.   245.\n",
      "   250.   255.   260.   265.   270.   275.   280.   285.   290.   295.\n",
      "   300.   305.   310.   315.   320.   325.   330.   335.   340.   345.\n",
      "   350.   355.   360.   365.   370.   375.   380.   385.   390.   395.\n",
      "   400.   405.   410.   415.   420.   425.   430.   435.   440.   445.\n",
      "   450.   455.   460.   465.   470.   475.   480.   485.   490.   495.\n",
      "   500.   505.   510.   515.   520.   525.   530.   535.   540.   545.\n",
      "   550.   555.   560.   565.   570.   575.   580.   585.   590.   595.\n",
      "   600.   605.   610.   615.   620.   625.   630.   635.   640.   645.\n",
      "   650.   655.   660.   665.   670.   675.   680.   685.   690.   695.\n",
      "   700.   705.   710.   715.   720.   725.   730.   735.   740.   745.\n",
      "   750.   755.   760.   765.   770.   775.   780.   785.   790.   795.\n",
      "   800.   805.   810.   815.   820.   825.   830.   835.   840.   845.\n",
      "   850.   855.   860.   865.   870.   875.   880.   885.   890.   895.\n",
      "   900.   905.   910.   915.   920.   925.   930.   935.   940.   945.\n",
      "   950.   955.   960.   965.   970.   975.   980.   985.   990.   995.]\n",
      "[-1768. -1759. -1750. -1741. -1732. -1723. -1714. -1705. -1696. -1687.\n",
      " -1678. -1669. -1660. -1651. -1642. -1633. -1624. -1615. -1606. -1597.\n",
      " -1588. -1579. -1570. -1561. -1552. -1543. -1534. -1525. -1516. -1507.\n",
      " -1498. -1489. -1480. -1471. -1462. -1453. -1444. -1435. -1426. -1417.\n",
      " -1408. -1399. -1390. -1381. -1372. -1363. -1354. -1345. -1336. -1327.\n",
      " -1318. -1309. -1300. -1291. -1282. -1273. -1264. -1255. -1246. -1237.\n",
      " -1228. -1219. -1210. -1201. -1192. -1183. -1174. -1165. -1156. -1147.\n",
      " -1138. -1129. -1120. -1111. -1102. -1093. -1084. -1075. -1066. -1057.\n",
      " -1048. -1039. -1030. -1021. -1012. -1003.  -994.  -985.  -976.  -967.\n",
      "  -958.  -949.  -940.  -931.  -922.  -913.  -904.  -895.  -886.  -877.\n",
      "  -868.  -859.  -850.  -841.  -832.  -823.  -814.  -805.  -796.  -787.\n",
      "  -778.  -769.  -760.  -751.  -742.  -733.  -724.  -715.  -706.  -697.\n",
      "  -688.  -679.  -670.  -661.  -652.  -643.  -634.  -625.  -616.  -607.\n",
      "  -598.  -589.  -580.  -571.  -562.  -553.  -544.  -535.  -526.  -517.\n",
      "  -508.  -499.  -490.  -481.  -472.  -463.  -454.  -445.  -436.  -427.\n",
      "  -418.  -409.  -400.  -391.  -382.  -373.  -364.  -355.  -346.  -337.\n",
      "  -328.  -319.  -310.  -301.  -292.  -283.  -274.  -265.  -256.  -247.\n",
      "  -238.  -229.  -220.  -211.  -202.  -193.  -184.  -175.  -166.  -157.\n",
      "  -148.  -139.  -130.  -121.  -112.  -103.   -94.   -85.   -76.   -67.\n",
      "   -58.   -49.   -40.   -31.   -22.   -13.    -4.     5.    14.    23.\n",
      "    32.    41.    50.    59.    68.    77.    86.    95.   104.   113.\n",
      "   122.   131.   140.   149.   158.   167.   176.   185.   194.   203.\n",
      "   212.   221.   230.   239.   248.   257.   266.   275.   284.   293.\n",
      "   302.   311.   320.   329.   338.   347.   356.   365.   374.   383.\n",
      "   392.   401.   410.   419.   428.   437.   446.   455.   464.   473.\n",
      "   482.   491.   500.   509.   518.   527.   536.   545.   554.   563.\n",
      "   572.   581.   590.   599.   608.   617.   626.   635.   644.   653.\n",
      "   662.   671.   680.   689.   698.   707.   716.   725.   734.   743.\n",
      "   752.   761.   770.   779.   788.   797.   806.   815.   824.   833.\n",
      "   842.   851.   860.   869.   878.   887.   896.   905.   914.   923.\n",
      "   932.   941.   950.   959.   968.   977.   986.   995.  1004.  1013.\n",
      "  1022.  1031.  1040.  1049.  1058.  1067.  1076.  1085.  1094.  1103.\n",
      "  1112.  1121.  1130.  1139.  1148.  1157.  1166.  1175.  1184.  1193.\n",
      "  1202.  1211.  1220.  1229.  1238.  1247.  1256.  1265.  1274.  1283.\n",
      "  1292.  1301.  1310.  1319.  1328.  1337.  1346.  1355.  1364.  1373.\n",
      "  1382.  1391.  1400.  1409.  1418.  1427.  1436.  1445.  1454.  1463.\n",
      "  1472.  1481.  1490.  1499.  1508.  1517.  1526.  1535.  1544.  1553.\n",
      "  1562.  1571.  1580.  1589.  1598.  1607.  1616.  1625.  1634.  1643.\n",
      "  1652.  1661.  1670.  1679.  1688.  1697.  1706.  1715.  1724.  1733.\n",
      "  1742.  1751.  1760.  1769.  1778.  1787.  1796.  1805.  1814.  1823.]\n"
     ]
    }
   ],
   "source": [
    "print(\n",
    "    celsius,\n",
    "    fahrenheit,\n",
    "    sep=\"\\n\"\n",
    ")"
   ]
  },
  {
   "cell_type": "markdown",
   "metadata": {},
   "source": [
    "## Train"
   ]
  },
  {
   "cell_type": "code",
   "execution_count": 79,
   "metadata": {},
   "outputs": [],
   "source": [
    "net.compile(tf.keras.optimizers.Adam(learning_rate=0.001), loss=tf.keras.losses.MeanSquaredError())"
   ]
  },
  {
   "cell_type": "code",
   "execution_count": 80,
   "metadata": {},
   "outputs": [],
   "source": [
    "hist = net.fit(celsius, fahrenheit, epochs=2500, verbose=0) # type: ignore"
   ]
  },
  {
   "cell_type": "code",
   "execution_count": 81,
   "metadata": {},
   "outputs": [
    {
     "data": {
      "image/png": "[encoded data removed]",
      "text/plain": [
       "<Figure size 640x480 with 1 Axes>"
      ]
     },
     "metadata": {},
     "output_type": "display_data"
    }
   ],
   "source": [
    "plt.xlabel('Epoch Number')\n",
    "plt.ylabel(\"Loss Magnitude\")\n",
    "plt.plot(hist.history['loss'])\n",
    "plt.show()"
   ]
  },
  {
   "cell_type": "markdown",
   "metadata": {},
   "source": [
    "## Prediction"
   ]
  },
  {
   "cell_type": "code",
   "execution_count": 129,
   "metadata": {},
   "outputs": [
    {
     "name": "stdout",
     "output_type": "stream",
     "text": [
      "1/1 [==============================] - 0s 19ms/step\n",
      "242.35185 vs 248.0\n"
     ]
    }
   ],
   "source": [
    "to_try = 120\n",
    "prediction = net.predict(tf.convert_to_tensor([to_try], dtype=float))\n",
    "print(prediction[0][0], \"vs\", get_fahrenheit(to_try))\n"
   ]
  },
  {
   "cell_type": "markdown",
   "metadata": {},
   "source": [
    "## Net vars"
   ]
  },
  {
   "cell_type": "code",
   "execution_count": 114,
   "metadata": {},
   "outputs": [
    {
     "name": "stdout",
     "output_type": "stream",
     "text": [
      "[array([[1.8002425]], dtype=float32), array([26.32276], dtype=float32)]\n"
     ]
    }
   ],
   "source": [
    "print(net.layers[0].get_weights())"
   ]
  }
 ],
 "metadata": {
  "kernelspec": {
   "display_name": "Python 3.8.10 64-bit",
   "language": "python",
   "name": "python3"
  },
  "language_info": {
   "codemirror_mode": {
    "name": "ipython",
    "version": 3
   },
   "file_extension": ".py",
   "mimetype": "text/x-python",
   "name": "python",
   "nbconvert_exporter": "python",
   "pygments_lexer": "ipython3",
   "version": "3.8.10"
  },
  "orig_nbformat": 4,
  "vscode": {
   "interpreter": {
    "hash": "31f2aee4e71d21fbe5cf8b01ff0e069b9275f58929596ceb00d14d90e3e16cd6"
   }
  }
 },
 "nbformat": 4,
 "nbformat_minor": 2
}
